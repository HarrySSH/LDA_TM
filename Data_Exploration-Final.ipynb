{
 "cells": [
  {
   "cell_type": "code",
   "execution_count": 1,
   "id": "64dea5ca",
   "metadata": {},
   "outputs": [],
   "source": [
    "import pandas as pd\n",
    "import numpy as np\n",
    "import os\n",
    "import sys\n",
    "import seaborn as sns\n",
    "import matplotlib.pyplot as plt\n",
    "sns.color_palette()"
   ]
  },
  {
   "cell_type": "code",
   "execution_count": 3,
   "id": "2b1a75db",
   "metadata": {},
   "outputs": [
    {
     "name": "stderr",
     "output_type": "stream",
     "text": [
      "/wynton/protected/home/ichs/harrysun/.local/lib/python3.7/site-packages/IPython/core/interactiveshell.py:3444: DtypeWarning: Columns (11,23) have mixed types.Specify dtype option on import or set low_memory=False.\n",
      "  exec(code_obj, self.user_global_ns, self.user_ns)\n"
     ]
    }
   ],
   "source": [
    "note_meta = pd.read_csv('/wynton/protected/project/outcome_pred/Harry_Social_Notes/data/social_notes_meta.csv', index_col=0)"
   ]
  },
  {
   "cell_type": "code",
   "execution_count": 5,
   "id": "80c258c4",
   "metadata": {},
   "outputs": [],
   "source": [
    "notes = pd.read_csv('/wynton/protected/project/outcome_pred/Harry_Social_Notes/data/social_notes.csv', index_col=0)"
   ]
  },
  {
   "cell_type": "code",
   "execution_count": 6,
   "id": "7fda0cab",
   "metadata": {},
   "outputs": [],
   "source": [
    "num_list = []\n",
    "cate_list = []\n",
    "pool = note_meta['note_type'].tolist()\n",
    "for i in set(note_meta['note_type']):\n",
    "    num = pool.count(i)\n",
    "    cate_list.append(i)\n",
    "    num_list.append(num)\n",
    "\n",
    "d = {'Category': cate_list, 'Cases': num_list}\n",
    "df = pd.DataFrame(data=d)\n",
    "df = df.sort_values(['Cases'], ascending=False)"
   ]
  },
  {
   "cell_type": "code",
   "execution_count": 42,
   "id": "782facaa",
   "metadata": {},
   "outputs": [
    {
     "data": {
      "image/png": "[encoded data removed]",
      "text/plain": [
       "<Figure size 432x288 with 1 Axes>"
      ]
     },
     "metadata": {},
     "output_type": "display_data"
    }
   ],
   "source": [
    "# Pie chart\n",
    "labels = ['Progress Notes','Interdisciplinary',\n",
    "         'Telephone Encounter', 'Patient Instructions', 'Group Note',\n",
    "         'Letter', 'Others']\n",
    "sizes = [380829, 351600,224629,33428,\n",
    "         31979,14932, 21928]\n",
    "#colors\n",
    "colors = [sns.color_palette(\"tab10\")[0],\n",
    "         sns.color_palette(\"tab10\")[1],\n",
    "         sns.color_palette(\"tab10\")[2],\n",
    "         sns.color_palette(\"tab10\")[3],\n",
    "         sns.color_palette(\"tab10\")[4],\n",
    "         sns.color_palette(\"tab10\")[5],\n",
    "         sns.color_palette(\"tab10\")[6]]\n",
    " \n",
    "fig1, ax1 = plt.subplots()\n",
    "ax1.pie(sizes, colors = colors, labels=labels, autopct='%1.1f%%', startangle=90)\n",
    "#draw circle\n",
    "centre_circle = plt.Circle((0,0),0.60,fc='white')\n",
    "fig = plt.gcf()\n",
    "fig.gca().add_artist(centre_circle)\n",
    "# Equal aspect ratio ensures that pie is drawn as a circle\n",
    "ax1.axis('equal')  \n",
    "plt.tight_layout()\n",
    "#plt.show()\n",
    "plt.savefig(\"./Results/piechart.pdf\")"
   ]
  },
  {
   "cell_type": "code",
   "execution_count": 11,
   "id": "6578d380",
   "metadata": {},
   "outputs": [
    {
     "name": "stderr",
     "output_type": "stream",
     "text": [
      "/wynton/protected/home/ichs/harrysun/.local/lib/python3.7/site-packages/ipykernel_launcher.py:1: DeprecationWarning: The default dtype for empty Series will be 'object' instead of 'float64' in a future version. Specify a dtype explicitly to silence this warning.\n",
      "  \"\"\"Entry point for launching an IPython kernel.\n"
     ]
    },
    {
     "data": {
      "text/plain": [
       "0        NaN\n",
       "1        NaN\n",
       "2        NaN\n",
       "3        NaN\n",
       "4        NaN\n",
       "          ..\n",
       "181639   NaN\n",
       "181640   NaN\n",
       "181641   NaN\n",
       "181642   NaN\n",
       "181643   NaN\n",
       "Length: 181644, dtype: float64"
      ]
     },
     "execution_count": 11,
     "metadata": {},
     "output_type": "execute_result"
    }
   ],
   "source": [
    "\n",
    "counts = pd.Series( index=list(range(len(set(note_meta['deid_PatientDurableKey'])))))\n",
    "d = {'ID': list(range(len(set(note_meta['deid_PatientDurableKey']))))}\n",
    "df = pd.DataFrame(data=d)\n",
    "df['string'] = list(set(note_meta['deid_PatientDurableKey']))\n",
    "\n",
    "def count_string(str_):\n",
    "    return list(set(note_meta['deid_PatientDurableKey'])).count(str_)\n",
    "\n",
    "df['counts'] = df['string'].apply(count_string)\n",
    "\n",
    "ID_list = note_meta['deid_PatientDurableKey'].tolist()\n",
    "num_list = []\n",
    "ID = set(note_meta['deid_PatientDurableKey'])\n",
    "\n",
    "\n",
    "p = 0\n",
    "for _id in ID:\n",
    "    p = p + 1\n",
    "    num_list.append(ID_list.count(_id))"
   ]
  },
  {
   "cell_type": "code",
   "execution_count": 32,
   "id": "c6226123",
   "metadata": {},
   "outputs": [],
   "source": [
    "data = {'PatientDurableKey' : list(set(note_meta['deid_PatientDurableKey'])), 'Num_of_note' : num_list}"
   ]
  },
  {
   "cell_type": "code",
   "execution_count": 33,
   "id": "b9111d83",
   "metadata": {},
   "outputs": [],
   "source": [
    "\n",
    "df = pd.DataFrame.from_dict(data)"
   ]
  },
  {
   "cell_type": "code",
   "execution_count": 35,
   "id": "934553ce",
   "metadata": {},
   "outputs": [],
   "source": [
    "df.to_csv(\"../Social_topic_modeling/ID_num.csv\")"
   ]
  },
  {
   "cell_type": "code",
   "execution_count": 20,
   "id": "6264bacc",
   "metadata": {},
   "outputs": [
    {
     "name": "stderr",
     "output_type": "stream",
     "text": [
      "IOPub data rate exceeded.\n",
      "The notebook server will temporarily stop sending output\n",
      "to the client in order to avoid crashing it.\n",
      "To change this limit, set the config variable\n",
      "`--NotebookApp.iopub_data_rate_limit`.\n",
      "\n",
      "Current values:\n",
      "NotebookApp.iopub_data_rate_limit=1000000.0 (bytes/sec)\n",
      "NotebookApp.rate_limit_window=3.0 (secs)\n",
      "\n"
     ]
    }
   ],
   "source": [
    "# loop over dictionary keys and values\n",
    "for key, val in dict.items():\n",
    "    print(key)\n",
    "    print(val)\n",
    "    break\n",
    "    # write every key and value to file\n",
    "    w.writerow([key, val])"
   ]
  },
  {
   "cell_type": "code",
   "execution_count": 2,
   "id": "fae21596",
   "metadata": {},
   "outputs": [
    {
     "ename": "NameError",
     "evalue": "name 'num_list' is not defined",
     "output_type": "error",
     "traceback": [
      "\u001b[0;31m---------------------------------------------------------------------------\u001b[0m",
      "\u001b[0;31mNameError\u001b[0m                                 Traceback (most recent call last)",
      "\u001b[0;32m/tmp/ipykernel_80382/3100263464.py\u001b[0m in \u001b[0;36m<module>\u001b[0;34m\u001b[0m\n\u001b[0;32m----> 1\u001b[0;31m \u001b[0mnum_df\u001b[0m \u001b[0;34m=\u001b[0m \u001b[0mpd\u001b[0m\u001b[0;34m.\u001b[0m\u001b[0mDataFrame\u001b[0m\u001b[0;34m(\u001b[0m\u001b[0mnum_list\u001b[0m\u001b[0;34m,\u001b[0m \u001b[0mcolumns\u001b[0m\u001b[0;34m=\u001b[0m\u001b[0;34m[\u001b[0m\u001b[0;34m'num'\u001b[0m\u001b[0;34m]\u001b[0m\u001b[0;34m)\u001b[0m\u001b[0;34m\u001b[0m\u001b[0;34m\u001b[0m\u001b[0m\n\u001b[0m\u001b[1;32m      2\u001b[0m \u001b[0;34m\u001b[0m\u001b[0m\n\u001b[1;32m      3\u001b[0m \u001b[0;34m\u001b[0m\u001b[0m\n\u001b[1;32m      4\u001b[0m \u001b[0mlg_num_list\u001b[0m \u001b[0;34m=\u001b[0m \u001b[0;34m[\u001b[0m\u001b[0mnp\u001b[0m\u001b[0;34m.\u001b[0m\u001b[0mlog10\u001b[0m\u001b[0;34m(\u001b[0m\u001b[0mx\u001b[0m\u001b[0;34m+\u001b[0m\u001b[0;36m1\u001b[0m\u001b[0;34m)\u001b[0m \u001b[0;32mfor\u001b[0m \u001b[0mx\u001b[0m \u001b[0;32min\u001b[0m \u001b[0mnum_list\u001b[0m\u001b[0;34m]\u001b[0m\u001b[0;34m\u001b[0m\u001b[0;34m\u001b[0m\u001b[0m\n\u001b[1;32m      5\u001b[0m \u001b[0mlg_num_df\u001b[0m \u001b[0;34m=\u001b[0m \u001b[0mpd\u001b[0m\u001b[0;34m.\u001b[0m\u001b[0mDataFrame\u001b[0m\u001b[0;34m(\u001b[0m\u001b[0mlg_num_list\u001b[0m\u001b[0;34m,\u001b[0m \u001b[0mcolumns\u001b[0m\u001b[0;34m=\u001b[0m\u001b[0;34m[\u001b[0m\u001b[0;34m'num'\u001b[0m\u001b[0;34m]\u001b[0m\u001b[0;34m)\u001b[0m\u001b[0;34m\u001b[0m\u001b[0;34m\u001b[0m\u001b[0m\n",
      "\u001b[0;31mNameError\u001b[0m: name 'num_list' is not defined"
     ]
    }
   ],
   "source": [
    "num_df = pd.DataFrame(num_list, columns=['num'])\n",
    "\n",
    "\n",
    "lg_num_list = [np.log10(x+1) for x in num_list]\n",
    "lg_num_df = pd.DataFrame(lg_num_list, columns=['num'])\n",
    "\n"
   ]
  },
  {
   "cell_type": "code",
   "execution_count": 72,
   "id": "f86b5b14",
   "metadata": {},
   "outputs": [
    {
     "data": {
      "image/png": "[encoded data removed]",
      "text/plain": [
       "<Figure size 432x288 with 1 Axes>"
      ]
     },
     "metadata": {
      "needs_background": "light"
     },
     "output_type": "display_data"
    }
   ],
   "source": [
    "import matplotlib.pyplot as plt\n",
    "\n",
    "# An \"interface\" to matplotlib.axes.Axes.hist() method\n",
    "n, bins, patches = plt.hist(x=lg_num_list, bins=50, color='#0504aa',\n",
    "                            alpha=0.7, rwidth=2)\n",
    "plt.grid(axis='y', alpha=0.75)\n",
    "plt.xlabel('Number of social worker notes')\n",
    "plt.ylabel('Number of patients')\n",
    "#plt.title('My Very Own Histogram')\n",
    "\n",
    "#maxfreq = n.max()\n",
    "# Set a clean upper y-axis limit.\n",
    "#plt.ylim(ymax=np.ceil(maxfreq / 10) * 10 if maxfreq % 10 else maxfreq + 10)\n",
    "\n",
    "plt.savefig('../Social_topic_modeling/Results/Hisgram.pdf')"
   ]
  },
  {
   "cell_type": "code",
   "execution_count": 70,
   "id": "170fa478",
   "metadata": {},
   "outputs": [
    {
     "name": "stderr",
     "output_type": "stream",
     "text": [
      "/usr/local/icsoftware/anaconda3/envs/jupyterhub_base_v1.5/lib/python3.7/site-packages/seaborn/distributions.py:2551: FutureWarning: `distplot` is a deprecated function and will be removed in a future version. Please adapt your code to use either `displot` (a figure-level function with similar flexibility) or `histplot` (an axes-level function for histograms).\n",
      "  warnings.warn(msg, FutureWarning)\n"
     ]
    },
    {
     "data": {
      "text/plain": [
       "[Text(0.5, 0, 'Uniform Distribution '), Text(0, 0.5, 'Frequency')]"
      ]
     },
     "execution_count": 70,
     "metadata": {},
     "output_type": "execute_result"
    },
    {
     "data": {
      "image/png": "[encoded data removed]",
      "text/plain": [
       "<Figure size 432x288 with 1 Axes>"
      ]
     },
     "metadata": {
      "needs_background": "light"
     },
     "output_type": "display_data"
    }
   ],
   "source": [
    "import seaborn as sns\n",
    "\n",
    "ax = sns.distplot(lg_num_list,\n",
    "                  bins=100,\n",
    "                  kde=True,\n",
    "                  color='skyblue',\n",
    "                  hist_kws={\"linewidth\": 15,'alpha':1})\n",
    "ax.set(xlabel='Uniform Distribution ', ylabel='Frequency')"
   ]
  },
  {
   "cell_type": "code",
   "execution_count": null,
   "id": "da247173",
   "metadata": {},
   "outputs": [],
   "source": []
  },
  {
   "cell_type": "code",
   "execution_count": null,
   "id": "b2b195b4",
   "metadata": {},
   "outputs": [],
   "source": []
  },
  {
   "cell_type": "code",
   "execution_count": 64,
   "id": "42a2bf6f",
   "metadata": {},
   "outputs": [
    {
     "data": {
      "image/png": "[encoded data removed]",
      "text/plain": [
       "<Figure size 432x288 with 1 Axes>"
      ]
     },
     "metadata": {
      "needs_background": "light"
     },
     "output_type": "display_data"
    }
   ],
   "source": [
    "import matplotlib.pyplot as plt\n",
    "\n",
    "# An \"interface\" to matplotlib.axes.Axes.hist() method\n",
    "n, bins, patches = plt.hist(x=lg_num_list, bins='auto', color='#0504aa',\n",
    "                            alpha=0.7, rwidth=2)\n",
    "plt.grid(axis='y', alpha=0.75)\n",
    "plt.xlabel('Number of social worker notes')\n",
    "plt.ylabel('Number of patients')\n",
    "#plt.title('My Very Own Histogram')\n",
    "\n",
    "#maxfreq = n.max()\n",
    "# Set a clean upper y-axis limit.\n",
    "#plt.ylim(ymax=np.ceil(maxfreq / 10) * 10 if maxfreq % 10 else maxfreq + 10)\n",
    "plt.show()\n",
    "#plt.savefig('../Figures/histgram.pdf')"
   ]
  },
  {
   "cell_type": "code",
   "execution_count": 62,
   "id": "9aa7662d",
   "metadata": {},
   "outputs": [
    {
     "data": {
      "text/plain": [
       "683"
      ]
     },
     "execution_count": 62,
     "metadata": {},
     "output_type": "execute_result"
    }
   ],
   "source": [
    "max(num_list)"
   ]
  },
  {
   "cell_type": "code",
   "execution_count": 1,
   "id": "5852f7c1",
   "metadata": {},
   "outputs": [],
   "source": [
    "## Generate the summary heatmap "
   ]
  },
  {
   "cell_type": "code",
   "execution_count": 1,
   "id": "33371520",
   "metadata": {},
   "outputs": [],
   "source": [
    "import pandas as pd"
   ]
  },
  {
   "cell_type": "code",
   "execution_count": 23,
   "id": "16709f04",
   "metadata": {},
   "outputs": [],
   "source": [
    "tsv = pd.read_csv('../Social_topic_modeling/Results/Fig4_table.csv', index_col=0)\n"
   ]
  },
  {
   "cell_type": "code",
   "execution_count": 24,
   "id": "30d3913b",
   "metadata": {},
   "outputs": [
    {
     "data": {
      "text/html": [
       "<div>\n",
       "<style scoped>\n",
       "    .dataframe tbody tr th:only-of-type {\n",
       "        vertical-align: middle;\n",
       "    }\n",
       "\n",
       "    .dataframe tbody tr th {\n",
       "        vertical-align: top;\n",
       "    }\n",
       "\n",
       "    .dataframe thead th {\n",
       "        text-align: right;\n",
       "    }\n",
       "</style>\n",
       "<table border=\"1\" class=\"dataframe\">\n",
       "  <thead>\n",
       "    <tr style=\"text-align: right;\">\n",
       "      <th></th>\n",
       "      <th>Progess Notes</th>\n",
       "      <th>Interdisciplinary</th>\n",
       "      <th>TelePhoneEncounter</th>\n",
       "      <th>Patient Intructions</th>\n",
       "      <th>Group Note</th>\n",
       "    </tr>\n",
       "  </thead>\n",
       "  <tbody>\n",
       "    <tr>\n",
       "      <th>Mental Health</th>\n",
       "      <td>4.324580</td>\n",
       "      <td>3.443899</td>\n",
       "      <td>6.035109</td>\n",
       "      <td>14.720321</td>\n",
       "      <td>1.147187</td>\n",
       "    </tr>\n",
       "    <tr>\n",
       "      <th>Consultation/Appontment</th>\n",
       "      <td>2.621675</td>\n",
       "      <td>0.320716</td>\n",
       "      <td>2.955506</td>\n",
       "      <td>15.933321</td>\n",
       "      <td>0.000000</td>\n",
       "    </tr>\n",
       "    <tr>\n",
       "      <th>Family</th>\n",
       "      <td>6.285167</td>\n",
       "      <td>12.738291</td>\n",
       "      <td>8.084296</td>\n",
       "      <td>1.024329</td>\n",
       "      <td>0.166885</td>\n",
       "    </tr>\n",
       "    <tr>\n",
       "      <th>Group session</th>\n",
       "      <td>4.049477</td>\n",
       "      <td>0.000000</td>\n",
       "      <td>1.885065</td>\n",
       "      <td>0.000000</td>\n",
       "      <td>24.689060</td>\n",
       "    </tr>\n",
       "    <tr>\n",
       "      <th>Risk of death</th>\n",
       "      <td>2.026647</td>\n",
       "      <td>0.248461</td>\n",
       "      <td>0.000000</td>\n",
       "      <td>2.685250</td>\n",
       "      <td>1.101788</td>\n",
       "    </tr>\n",
       "    <tr>\n",
       "      <th>clinician/hospital/Medication</th>\n",
       "      <td>8.399645</td>\n",
       "      <td>2.212605</td>\n",
       "      <td>7.562768</td>\n",
       "      <td>36.226793</td>\n",
       "      <td>0.000000</td>\n",
       "    </tr>\n",
       "    <tr>\n",
       "      <th>Living condition/Life Style/income</th>\n",
       "      <td>0.000000</td>\n",
       "      <td>0.632943</td>\n",
       "      <td>3.931288</td>\n",
       "      <td>10.247149</td>\n",
       "      <td>0.000206</td>\n",
       "    </tr>\n",
       "    <tr>\n",
       "      <th>Social support</th>\n",
       "      <td>10.457689</td>\n",
       "      <td>11.162238</td>\n",
       "      <td>11.562631</td>\n",
       "      <td>0.679342</td>\n",
       "      <td>0.132972</td>\n",
       "    </tr>\n",
       "    <tr>\n",
       "      <th>Phone call/Online</th>\n",
       "      <td>1.198648</td>\n",
       "      <td>0.000000</td>\n",
       "      <td>7.471413</td>\n",
       "      <td>0.430320</td>\n",
       "      <td>12.713998</td>\n",
       "    </tr>\n",
       "    <tr>\n",
       "      <th>Abuse history</th>\n",
       "      <td>0.000000</td>\n",
       "      <td>1.158522</td>\n",
       "      <td>0.000000</td>\n",
       "      <td>2.140001</td>\n",
       "      <td>0.000000</td>\n",
       "    </tr>\n",
       "    <tr>\n",
       "      <th>Donation</th>\n",
       "      <td>1.883901</td>\n",
       "      <td>4.058935</td>\n",
       "      <td>1.600554</td>\n",
       "      <td>0.000000</td>\n",
       "      <td>0.000000</td>\n",
       "    </tr>\n",
       "    <tr>\n",
       "      <th>Transplant</th>\n",
       "      <td>8.335023</td>\n",
       "      <td>7.159173</td>\n",
       "      <td>1.497999</td>\n",
       "      <td>0.000000</td>\n",
       "      <td>0.000000</td>\n",
       "    </tr>\n",
       "  </tbody>\n",
       "</table>\n",
       "</div>"
      ],
      "text/plain": [
       "                                    Progess Notes  Interdisciplinary  \\\n",
       "Mental Health                            4.324580           3.443899   \n",
       "Consultation/Appontment                  2.621675           0.320716   \n",
       "Family                                   6.285167          12.738291   \n",
       "Group session                            4.049477           0.000000   \n",
       "Risk of death                            2.026647           0.248461   \n",
       "clinician/hospital/Medication            8.399645           2.212605   \n",
       "Living condition/Life Style/income       0.000000           0.632943   \n",
       "Social support                          10.457689          11.162238   \n",
       "Phone call/Online                        1.198648           0.000000   \n",
       "Abuse history                            0.000000           1.158522   \n",
       "Donation                                 1.883901           4.058935   \n",
       "Transplant                               8.335023           7.159173   \n",
       "\n",
       "                                    TelePhoneEncounter  Patient Intructions  \\\n",
       "Mental Health                                 6.035109            14.720321   \n",
       "Consultation/Appontment                       2.955506            15.933321   \n",
       "Family                                        8.084296             1.024329   \n",
       "Group session                                 1.885065             0.000000   \n",
       "Risk of death                                 0.000000             2.685250   \n",
       "clinician/hospital/Medication                 7.562768            36.226793   \n",
       "Living condition/Life Style/income            3.931288            10.247149   \n",
       "Social support                               11.562631             0.679342   \n",
       "Phone call/Online                             7.471413             0.430320   \n",
       "Abuse history                                 0.000000             2.140001   \n",
       "Donation                                      1.600554             0.000000   \n",
       "Transplant                                    1.497999             0.000000   \n",
       "\n",
       "                                    Group Note  \n",
       "Mental Health                         1.147187  \n",
       "Consultation/Appontment               0.000000  \n",
       "Family                                0.166885  \n",
       "Group session                        24.689060  \n",
       "Risk of death                         1.101788  \n",
       "clinician/hospital/Medication         0.000000  \n",
       "Living condition/Life Style/income    0.000206  \n",
       "Social support                        0.132972  \n",
       "Phone call/Online                    12.713998  \n",
       "Abuse history                         0.000000  \n",
       "Donation                              0.000000  \n",
       "Transplant                            0.000000  "
      ]
     },
     "execution_count": 24,
     "metadata": {},
     "output_type": "execute_result"
    }
   ],
   "source": [
    "tsv"
   ]
  },
  {
   "cell_type": "code",
   "execution_count": 4,
   "id": "f9d530c7",
   "metadata": {},
   "outputs": [
    {
     "data": {
      "text/plain": [
       "(12, 5)"
      ]
     },
     "execution_count": 4,
     "metadata": {},
     "output_type": "execute_result"
    }
   ],
   "source": [
    "tsv.to_numpy().shape\n"
   ]
  },
  {
   "cell_type": "code",
   "execution_count": 17,
   "id": "781a3cff",
   "metadata": {},
   "outputs": [
    {
     "data": {
      "text/plain": [
       "Index(['All Notes', 'Progess Notes', 'Interdisciplinary', 'TelePhoneEncounter',\n",
       "       'Patient Intructions', 'Group Note'],\n",
       "      dtype='object')"
      ]
     },
     "execution_count": 17,
     "metadata": {},
     "output_type": "execute_result"
    }
   ],
   "source": [
    "tsv.columns"
   ]
  },
  {
   "cell_type": "code",
   "execution_count": 27,
   "id": "d5bc7226",
   "metadata": {},
   "outputs": [
    {
     "data": {
      "image/png": "[encoded data removed]",
      "text/plain": [
       "<Figure size 158.4x324 with 2 Axes>"
      ]
     },
     "metadata": {
      "needs_background": "light"
     },
     "output_type": "display_data"
    }
   ],
   "source": [
    "tsv = pd.read_csv('../Social_topic_modeling/Results/Fig4_table.csv', index_col=0)\n",
    "tsv\n",
    "import numpy as np\n",
    "import matplotlib.pyplot as plt\n",
    "from matplotlib.collections import PatchCollection\n",
    "\n",
    "import matplotlib.pyplot as plt\n",
    "\n",
    "from matplotlib.pyplot import figure\n",
    "\n",
    "\n",
    "\n",
    "N = 12\n",
    "M = 5\n",
    "ylabels = tsv.index\n",
    "xlabels = tsv.columns\n",
    "\n",
    "x, y = np.meshgrid(np.arange(M), np.arange(N))\n",
    "c = tsv.to_numpy()\n",
    "\n",
    "fig, ax = plt.subplots()\n",
    "fig.set_size_inches(2.2, 4.5, forward=True)\n",
    "#r = c/c.max()/2\n",
    "R = c/c.max()/2 +0.1\n",
    "R[R==0.1] =0\n",
    "circles = [plt.Circle((j,i), radius=r) for r, j, i in zip(R.flat, x.flat, y.flat)]\n",
    "col = PatchCollection(circles, array=c.flatten(), cmap=\"Blues\")\n",
    "ax.add_collection(col)\n",
    "\n",
    "ax.set(xticks=np.arange(M), yticks=np.arange(N),\n",
    "       xticklabels=xlabels, yticklabels=ylabels)\n",
    "ax.set_xticks(np.arange(M+1)-0.5, minor=True)\n",
    "plt.xticks(rotation = 90)\n",
    "ax.set_yticks(np.arange(N+1)-0.5, minor=True)\n",
    "ax.grid(which='minor')\n",
    "\n",
    "fig.colorbar(col)\n",
    "#plt.show()\n",
    "plt.savefig('./Results/Heatmap.pdf')"
   ]
  },
  {
   "cell_type": "code",
   "execution_count": null,
   "id": "764f8510",
   "metadata": {},
   "outputs": [],
   "source": []
  },
  {
   "cell_type": "code",
   "execution_count": 52,
   "id": "8d4a6328",
   "metadata": {},
   "outputs": [
    {
     "data": {
      "text/html": [
       "<div>\n",
       "<style scoped>\n",
       "    .dataframe tbody tr th:only-of-type {\n",
       "        vertical-align: middle;\n",
       "    }\n",
       "\n",
       "    .dataframe tbody tr th {\n",
       "        vertical-align: top;\n",
       "    }\n",
       "\n",
       "    .dataframe thead th {\n",
       "        text-align: right;\n",
       "    }\n",
       "</style>\n",
       "<table border=\"1\" class=\"dataframe\">\n",
       "  <thead>\n",
       "    <tr style=\"text-align: right;\">\n",
       "      <th></th>\n",
       "      <th>All Notes</th>\n",
       "      <th>Progess Notes</th>\n",
       "      <th>Interdisciplinary</th>\n",
       "      <th>TelePhoneEncounter</th>\n",
       "      <th>Patient Intructions</th>\n",
       "      <th>Group Note</th>\n",
       "    </tr>\n",
       "  </thead>\n",
       "  <tbody>\n",
       "    <tr>\n",
       "      <th>Mental health</th>\n",
       "      <td>7.041281</td>\n",
       "      <td>6.247626</td>\n",
       "      <td>5.442521</td>\n",
       "      <td>6.687962</td>\n",
       "      <td>10.019111</td>\n",
       "      <td>2.254954</td>\n",
       "    </tr>\n",
       "    <tr>\n",
       "      <th>Consultation/Appontment</th>\n",
       "      <td>4.479132</td>\n",
       "      <td>12.912075</td>\n",
       "      <td>0.000000</td>\n",
       "      <td>3.357207</td>\n",
       "      <td>15.895025</td>\n",
       "      <td>14.479697</td>\n",
       "    </tr>\n",
       "    <tr>\n",
       "      <th>Family</th>\n",
       "      <td>4.566558</td>\n",
       "      <td>6.013979</td>\n",
       "      <td>14.595498</td>\n",
       "      <td>4.223691</td>\n",
       "      <td>8.322369</td>\n",
       "      <td>0.000000</td>\n",
       "    </tr>\n",
       "    <tr>\n",
       "      <th>Group session</th>\n",
       "      <td>3.748897</td>\n",
       "      <td>5.286283</td>\n",
       "      <td>0.000000</td>\n",
       "      <td>0.000000</td>\n",
       "      <td>10.891846</td>\n",
       "      <td>39.181367</td>\n",
       "    </tr>\n",
       "    <tr>\n",
       "      <th>Risk of death</th>\n",
       "      <td>3.679088</td>\n",
       "      <td>0.000000</td>\n",
       "      <td>0.805627</td>\n",
       "      <td>0.000000</td>\n",
       "      <td>3.242098</td>\n",
       "      <td>0.000000</td>\n",
       "    </tr>\n",
       "    <tr>\n",
       "      <th>clinician/hospital/Medication</th>\n",
       "      <td>3.706646</td>\n",
       "      <td>4.273351</td>\n",
       "      <td>3.223352</td>\n",
       "      <td>2.341618</td>\n",
       "      <td>37.243445</td>\n",
       "      <td>1.742223</td>\n",
       "    </tr>\n",
       "    <tr>\n",
       "      <th>Living condition/Life Style</th>\n",
       "      <td>0.700888</td>\n",
       "      <td>0.000000</td>\n",
       "      <td>2.187093</td>\n",
       "      <td>5.231161</td>\n",
       "      <td>0.000000</td>\n",
       "      <td>0.000000</td>\n",
       "    </tr>\n",
       "    <tr>\n",
       "      <th>Social support</th>\n",
       "      <td>15.962342</td>\n",
       "      <td>8.930479</td>\n",
       "      <td>10.308070</td>\n",
       "      <td>16.912125</td>\n",
       "      <td>3.327791</td>\n",
       "      <td>1.472914</td>\n",
       "    </tr>\n",
       "    <tr>\n",
       "      <th>Phone call</th>\n",
       "      <td>17.258488</td>\n",
       "      <td>0.000000</td>\n",
       "      <td>10.923763</td>\n",
       "      <td>17.392871</td>\n",
       "      <td>0.000000</td>\n",
       "      <td>0.000000</td>\n",
       "    </tr>\n",
       "    <tr>\n",
       "      <th>Abuse history</th>\n",
       "      <td>7.274432</td>\n",
       "      <td>5.325136</td>\n",
       "      <td>0.000000</td>\n",
       "      <td>0.000000</td>\n",
       "      <td>0.000000</td>\n",
       "      <td>0.000000</td>\n",
       "    </tr>\n",
       "    <tr>\n",
       "      <th>Donation</th>\n",
       "      <td>2.606454</td>\n",
       "      <td>6.166129</td>\n",
       "      <td>4.829623</td>\n",
       "      <td>0.000000</td>\n",
       "      <td>0.000000</td>\n",
       "      <td>0.000000</td>\n",
       "    </tr>\n",
       "    <tr>\n",
       "      <th>Transplant</th>\n",
       "      <td>5.717989</td>\n",
       "      <td>5.501506</td>\n",
       "      <td>9.839741</td>\n",
       "      <td>0.000000</td>\n",
       "      <td>0.000000</td>\n",
       "      <td>0.000000</td>\n",
       "    </tr>\n",
       "  </tbody>\n",
       "</table>\n",
       "</div>"
      ],
      "text/plain": [
       "                               All Notes  Progess Notes  Interdisciplinary  \\\n",
       "Mental health                   7.041281       6.247626           5.442521   \n",
       "Consultation/Appontment         4.479132      12.912075           0.000000   \n",
       "Family                          4.566558       6.013979          14.595498   \n",
       "Group session                   3.748897       5.286283           0.000000   \n",
       "Risk of death                   3.679088       0.000000           0.805627   \n",
       "clinician/hospital/Medication   3.706646       4.273351           3.223352   \n",
       "Living condition/Life Style     0.700888       0.000000           2.187093   \n",
       "Social support                 15.962342       8.930479          10.308070   \n",
       "Phone call                     17.258488       0.000000          10.923763   \n",
       "Abuse history                   7.274432       5.325136           0.000000   \n",
       "Donation                        2.606454       6.166129           4.829623   \n",
       "Transplant                      5.717989       5.501506           9.839741   \n",
       "\n",
       "                               TelePhoneEncounter  Patient Intructions  \\\n",
       "Mental health                            6.687962            10.019111   \n",
       "Consultation/Appontment                  3.357207            15.895025   \n",
       "Family                                   4.223691             8.322369   \n",
       "Group session                            0.000000            10.891846   \n",
       "Risk of death                            0.000000             3.242098   \n",
       "clinician/hospital/Medication            2.341618            37.243445   \n",
       "Living condition/Life Style              5.231161             0.000000   \n",
       "Social support                          16.912125             3.327791   \n",
       "Phone call                              17.392871             0.000000   \n",
       "Abuse history                            0.000000             0.000000   \n",
       "Donation                                 0.000000             0.000000   \n",
       "Transplant                               0.000000             0.000000   \n",
       "\n",
       "                               Group Note  \n",
       "Mental health                    2.254954  \n",
       "Consultation/Appontment         14.479697  \n",
       "Family                           0.000000  \n",
       "Group session                   39.181367  \n",
       "Risk of death                    0.000000  \n",
       "clinician/hospital/Medication    1.742223  \n",
       "Living condition/Life Style      0.000000  \n",
       "Social support                   1.472914  \n",
       "Phone call                       0.000000  \n",
       "Abuse history                    0.000000  \n",
       "Donation                         0.000000  \n",
       "Transplant                       0.000000  "
      ]
     },
     "execution_count": 52,
     "metadata": {},
     "output_type": "execute_result"
    }
   ],
   "source": [
    "tsv"
   ]
  },
  {
   "cell_type": "code",
   "execution_count": 27,
   "id": "5605cf06",
   "metadata": {},
   "outputs": [
    {
     "data": {
      "text/plain": [
       "array([[100.08985496, 100.079727  , 100.06945292, 100.0853462 ,\n",
       "        100.12785555, 100.02877584],\n",
       "       [100.05715895, 100.16477316, 100.        , 100.04284188,\n",
       "        100.20283908, 100.18477785],\n",
       "       [100.05827461, 100.0767454 , 100.1862556 , 100.05389923,\n",
       "        100.10620315, 100.        ],\n",
       "       [100.0478403 , 100.06745914, 100.        , 100.        ,\n",
       "        100.13899267, 100.5       ],\n",
       "       [100.04694946, 100.        , 100.01028074, 100.        ,\n",
       "        100.04137295, 100.        ],\n",
       "       [100.04730113, 100.05453295, 100.04113373, 100.02988178,\n",
       "        100.47526986, 100.0222328 ],\n",
       "       [100.00894415, 100.        , 100.02790986, 100.06675573,\n",
       "        100.        , 100.        ],\n",
       "       [100.20369813, 100.11396335, 100.13154302, 100.21581846,\n",
       "        100.0424665 , 100.0187961 ],\n",
       "       [100.22023845, 100.        , 100.13939997, 100.22195335,\n",
       "        100.        , 100.        ],\n",
       "       [100.09283025, 100.06795496, 100.        , 100.        ,\n",
       "        100.        , 100.        ],\n",
       "       [100.0332614 , 100.07868701, 100.06163163, 100.        ,\n",
       "        100.        , 100.        ],\n",
       "       [100.07296822, 100.07020564, 100.12556659, 100.        ,\n",
       "        100.        , 100.        ]])"
      ]
     },
     "execution_count": 27,
     "metadata": {},
     "output_type": "execute_result"
    }
   ],
   "source": [
    "r = c/c.max()/2 +100\n",
    "r"
   ]
  }
 ],
 "metadata": {
  "kernelspec": {
   "display_name": "gensim",
   "language": "python",
   "name": "gensim"
  },
  "language_info": {
   "codemirror_mode": {
    "name": "ipython",
    "version": 3
   },
   "file_extension": ".py",
   "mimetype": "text/x-python",
   "name": "python",
   "nbconvert_exporter": "python",
   "pygments_lexer": "ipython3",
   "version": "3.7.9"
  }
 },
 "nbformat": 4,
 "nbformat_minor": 5
}
